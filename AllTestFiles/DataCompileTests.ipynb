{
 "cells": [
  {
   "cell_type": "code",
   "execution_count": 1,
   "id": "a82feb1c",
   "metadata": {},
   "outputs": [
    {
     "data": {
      "text/plain": [
       "['AQI_BY_COUNTY_25_YEARS']"
      ]
     },
     "execution_count": 1,
     "metadata": {},
     "output_type": "execute_result"
    }
   ],
   "source": [
    "import zipfile\n",
    "import os\n",
    "\n",
    "# Define the path to the uploaded zip file\n",
    "zip_path = \"AQI_BY_COUNTY_25_YEARS.zip\"\n",
    "extractedDir = \"/aqi_data\"\n",
    "\n",
    "# Extract the ZIP file\n",
    "with zipfile.ZipFile(zip_path, 'r') as zip_ref:\n",
    "    zip_ref.extractall(extractedDir)\n",
    "\n",
    "# List extracted files\n",
    "extracted_files = os.listdir(extractedDir)\n",
    "extracted_files"
   ]
  },
  {
   "cell_type": "code",
   "execution_count": 2,
   "id": "6cca42d4",
   "metadata": {},
   "outputs": [],
   "source": [
    "subdir_path = os.path.join(extractedDir, 'AQI_BY_COUNTY_25_YEARS')\n",
    "subdir_contents = os.listdir(subdir_path)\n",
    "#subdir_contents"
   ]
  },
  {
   "cell_type": "code",
   "execution_count": 3,
   "id": "957985a2",
   "metadata": {},
   "outputs": [],
   "source": [
    "import pandas as pd\n",
    "\n",
    "# Load and combine all CSV files into a single DataFrame\n",
    "all_files = [os.path.join(subdir_path, f) for f in subdir_contents if f.endswith('.csv')]\n",
    "df_list = [pd.read_csv(file) for file in all_files]\n",
    "aqi_df = pd.concat(df_list, ignore_index=True)\n",
    "\n",
    "# Show the first few rows and column names for inspection\n",
    "#aqi_df.head(), aqi_df.columns.tolist()"
   ]
  },
  {
   "cell_type": "code",
   "execution_count": 4,
   "id": "1368ba90",
   "metadata": {},
   "outputs": [],
   "source": [
    "#!jupyter nbextension enable --py widgetsnbextension --sys-prefix\n",
    "#!jupyter nbextension install --py widgetsnbextension --sys-prefix"
   ]
  },
  {
   "cell_type": "code",
   "execution_count": null,
   "id": "72cd8319",
   "metadata": {},
   "outputs": [
    {
     "data": {
      "application/vnd.jupyter.widget-view+json": {
       "model_id": "82e84b8c8c0c436da45a94576fb5d927",
       "version_major": 2,
       "version_minor": 0
      },
      "text/plain": [
       "VBox(children=(Dropdown(description='State:', layout=Layout(width='50%'), options=('Alabama', 'Alaska', 'Arizo…"
      ]
     },
     "metadata": {},
     "output_type": "display_data"
    }
   ],
   "source": [
    "import pandas as pd\n",
    "import ipywidgets as widgets\n",
    "from IPython.display import display, clear_output\n",
    "\n",
    "# Load the preprocessed data (assumes it's loaded into `aqiDf`)\n",
    "aqiDf = pd.read_csv(\"AQI_BY_COUNTY_25_YEARS/annual_aqi_by_county_2024.csv\")\n",
    "for year in range(2000, 2024):\n",
    "    yearly = pd.read_csv(f\"AQI_BY_COUNTY_25_YEARS/annual_aqi_by_county_{year}.csv\")\n",
    "    aqiDf = pd.concat([aqiDf, yearly], ignore_index=True)\n",
    "\n",
    "# Widgets for interaction\n",
    "stateWidget = widgets.Dropdown(\n",
    "    options=sorted(aqiDf['State'].unique()),\n",
    "    description='State:',\n",
    "    layout=widgets.Layout(width='50%')\n",
    ")\n",
    "\n",
    "countyWidget = widgets.Dropdown(\n",
    "    options=[],\n",
    "    description='County:',\n",
    "    layout=widgets.Layout(width='50%')\n",
    ")\n",
    "\n",
    "yearRange = widgets.IntRangeSlider(\n",
    "    value=[2000, 2024],\n",
    "    min=2000,\n",
    "    max=2024,\n",
    "    step=1,\n",
    "    description='Year Range:',\n",
    "    continuous_update=False,\n",
    "    layout=widgets.Layout(width='90%')\n",
    ")\n",
    "\n",
    "output = widgets.Output()\n",
    "\n",
    "def updateCountyOptions(*args):\n",
    "    selectedState = stateWidget.value\n",
    "    counties = sorted(aqiDf[aqiDf['State'] == selectedState]['County'].unique())\n",
    "    countyWidget.options = counties\n",
    "\n",
    "stateWidget.observe(updateCountyOptions, 'value')\n",
    "updateCountyOptions()\n",
    "\n",
    "def showSummary(change=None):\n",
    "    with output:\n",
    "        clear_output()\n",
    "        state = stateWidget.value\n",
    "        county = countyWidget.value\n",
    "        yearMin, yearMax = yearRange.value\n",
    "\n",
    "        dfFiltered = aqiDf[\n",
    "            (aqiDf['State'] == state) &\n",
    "            (aqiDf['County'] == county) &\n",
    "            (aqiDf['Year'] >= yearMin) &\n",
    "            (aqiDf['Year'] <= yearMax)\n",
    "        ]\n",
    "\n",
    "        if dfFiltered.empty:\n",
    "            print(\"No data available for the selected options.\")\n",
    "        else:\n",
    "            display(dfFiltered.describe(include='all'))\n",
    "            display(dfFiltered.groupby('Year')[[ \n",
    "                'Good Days', 'Moderate Days', 'Unhealthy for Sensitive Groups Days',\n",
    "                'Unhealthy Days', 'Very Unhealthy Days', 'Hazardous Days',\n",
    "                'Max AQI', 'Median AQI', 'Days with AQI']].sum())\n",
    "\n",
    "submitBtn = widgets.Button(description=\"Show Report\", button_style='primary')\n",
    "submitBtn.on_click(showSummary)\n",
    "\n",
    "# Display all widgets and output\n",
    "ui = widgets.VBox([stateWidget, countyWidget, yearRange, submitBtn, output])\n",
    "display(ui)"
   ]
  }
 ],
 "metadata": {
  "kernelspec": {
   "display_name": "mujoco",
   "language": "python",
   "name": "python3"
  },
  "language_info": {
   "codemirror_mode": {
    "name": "ipython",
    "version": 3
   },
   "file_extension": ".py",
   "mimetype": "text/x-python",
   "name": "python",
   "nbconvert_exporter": "python",
   "pygments_lexer": "ipython3",
   "version": "3.9.19"
  }
 },
 "nbformat": 4,
 "nbformat_minor": 5
}
