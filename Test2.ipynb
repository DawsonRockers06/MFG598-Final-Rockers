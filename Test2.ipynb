{
 "cells": [
  {
   "cell_type": "code",
   "execution_count": 1,
   "metadata": {},
   "outputs": [
    {
     "name": "stdout",
     "output_type": "stream",
     "text": [
      "hello world\n"
     ]
    }
   ],
   "source": [
    "print('hello world')"
   ]
  },
  {
   "cell_type": "code",
   "execution_count": 2,
   "metadata": {},
   "outputs": [
    {
     "name": "stdout",
     "output_type": "stream",
     "text": [
      "second commit test\n"
     ]
    }
   ],
   "source": [
    "print('second commit test')"
   ]
  },
  {
   "cell_type": "code",
   "execution_count": 3,
   "metadata": {},
   "outputs": [
    {
     "data": {
      "text/plain": [
       "['AQI_BY_COUNTY_25_YEARS']"
      ]
     },
     "execution_count": 3,
     "metadata": {},
     "output_type": "execute_result"
    }
   ],
   "source": [
    "import zipfile\n",
    "import os\n",
    "\n",
    "# Define the path to the uploaded zip file\n",
    "zip_path = \"AQI_BY_COUNTY_25_YEARS.zip\"\n",
    "extractedDir = \"/aqi_data\"\n",
    "\n",
    "# Extract the ZIP file\n",
    "with zipfile.ZipFile(zip_path, 'r') as zip_ref:\n",
    "    zip_ref.extractall(extractedDir)\n",
    "\n",
    "# List extracted files\n",
    "extracted_files = os.listdir(extractedDir)\n",
    "extracted_files"
   ]
  },
  {
   "cell_type": "code",
   "execution_count": 5,
   "metadata": {},
   "outputs": [],
   "source": [
    "subdir_path = os.path.join(extractedDir, 'AQI_BY_COUNTY_25_YEARS')\n",
    "subdir_contents = os.listdir(subdir_path)\n",
    "#subdir_contents"
   ]
  },
  {
   "cell_type": "code",
   "execution_count": 6,
   "metadata": {},
   "outputs": [],
   "source": [
    "import pandas as pd\n",
    "\n",
    "# Load and combine all CSV files into a single DataFrame\n",
    "all_files = [os.path.join(subdir_path, f) for f in subdir_contents if f.endswith('.csv')]\n",
    "df_list = [pd.read_csv(file) for file in all_files]\n",
    "aqi_df = pd.concat(df_list, ignore_index=True)\n",
    "\n",
    "# Show the first few rows and column names for inspection\n",
    "#aqi_df.head(), aqi_df.columns.tolist()"
   ]
  },
  {
   "cell_type": "code",
   "execution_count": 7,
   "metadata": {},
   "outputs": [],
   "source": [
    "#!jupyter nbextension enable --py widgetsnbextension --sys-prefix\n",
    "#!jupyter nbextension install --py widgetsnbextension --sys-prefix"
   ]
  },
  {
   "cell_type": "code",
   "execution_count": 8,
   "metadata": {},
   "outputs": [
    {
     "data": {
      "application/vnd.jupyter.widget-view+json": {
       "model_id": "8ea3e7ad7e15464597d4ca5da412c9e4",
       "version_major": 2,
       "version_minor": 0
      },
      "text/plain": [
       "VBox(children=(Dropdown(description='State:', layout=Layout(width='50%'), options=('Alabama', 'Alaska', 'Arizo…"
      ]
     },
     "metadata": {},
     "output_type": "display_data"
    }
   ],
   "source": [
    "import pandas as pd\n",
    "import ipywidgets as widgets\n",
    "from IPython.display import display, clear_output\n",
    "\n",
    "# Load the preprocessed data (assumes it's loaded into `aqi_df`)\n",
    "aqi_df = pd.read_csv(\"AQI_BY_COUNTY_25_YEARS/annual_aqi_by_county_2024.csv\")\n",
    "for year in range(2000, 2024):\n",
    "    yearly = pd.read_csv(f\"AQI_BY_COUNTY_25_YEARS/annual_aqi_by_county_{year}.csv\")\n",
    "    aqi_df = pd.concat([aqi_df, yearly], ignore_index=True)\n",
    "\n",
    "# Widgets for interaction\n",
    "state_widget = widgets.Dropdown(\n",
    "    options=sorted(aqi_df['State'].unique()),\n",
    "    description='State:',\n",
    "    layout=widgets.Layout(width='50%')\n",
    ")\n",
    "\n",
    "county_widget = widgets.Dropdown(\n",
    "    options=[],\n",
    "    description='County:',\n",
    "    layout=widgets.Layout(width='50%')\n",
    ")\n",
    "\n",
    "year_range = widgets.IntRangeSlider(\n",
    "    value=[2000, 2024],\n",
    "    min=2000,\n",
    "    max=2024,\n",
    "    step=1,\n",
    "    description='Year Range:',\n",
    "    continuous_update=False,\n",
    "    layout=widgets.Layout(width='90%')\n",
    ")\n",
    "\n",
    "output = widgets.Output()\n",
    "\n",
    "def update_county_options(*args):\n",
    "    selected_state = state_widget.value\n",
    "    counties = sorted(aqi_df[aqi_df['State'] == selected_state]['County'].unique())\n",
    "    county_widget.options = counties\n",
    "\n",
    "state_widget.observe(update_county_options, 'value')\n",
    "update_county_options()\n",
    "\n",
    "def show_summary(change=None):\n",
    "    with output:\n",
    "        clear_output()\n",
    "        state = state_widget.value\n",
    "        county = county_widget.value\n",
    "        year_min, year_max = year_range.value\n",
    "\n",
    "        df_filtered = aqi_df[\n",
    "            (aqi_df['State'] == state) &\n",
    "            (aqi_df['County'] == county) &\n",
    "            (aqi_df['Year'] >= year_min) &\n",
    "            (aqi_df['Year'] <= year_max)\n",
    "        ]\n",
    "\n",
    "        if df_filtered.empty:\n",
    "            print(\"No data available for the selected options.\")\n",
    "        else:\n",
    "            display(df_filtered.describe(include='all'))\n",
    "            display(df_filtered.groupby('Year')[[\n",
    "                'Good Days', 'Moderate Days', 'Unhealthy for Sensitive Groups Days',\n",
    "                'Unhealthy Days', 'Very Unhealthy Days', 'Hazardous Days',\n",
    "                'Max AQI', 'Median AQI', 'Days with AQI']].sum())\n",
    "\n",
    "submit_btn = widgets.Button(description=\"Show Report\", button_style='primary')\n",
    "submit_btn.on_click(show_summary)\n",
    "\n",
    "# Display all widgets and output\n",
    "ui = widgets.VBox([state_widget, county_widget, year_range, submit_btn, output])\n",
    "display(ui)\n"
   ]
  }
 ],
 "metadata": {
  "kernelspec": {
   "display_name": "mujoco",
   "language": "python",
   "name": "python3"
  },
  "language_info": {
   "codemirror_mode": {
    "name": "ipython",
    "version": 3
   },
   "file_extension": ".py",
   "mimetype": "text/x-python",
   "name": "python",
   "nbconvert_exporter": "python",
   "pygments_lexer": "ipython3",
   "version": "3.9.19"
  }
 },
 "nbformat": 4,
 "nbformat_minor": 2
}
